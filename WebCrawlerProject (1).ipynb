{
 "cells": [
  {
   "cell_type": "markdown",
   "metadata": {
    "id": "MevE8VtNvMH9"
   },
   "source": [
    "# Web Crawler Project\n",
    "This project demonstrates a basic web crawler implemented in Python. The crawler starts from a base URL, extracts all the links, and saves them to text files. The script handles HTTP errors, connection issues, and respects the politeness policy by adding delays between requests.\n"
   ]
  },
  {
   "cell_type": "markdown",
   "metadata": {
    "id": "DD6vY1t2qqm7"
   },
   "source": [
    "Importing necessary libraries"
   ]
  },
  {
   "cell_type": "code",
   "execution_count": 16,
   "metadata": {
    "id": "3L8drnA-MJnj"
   },
   "outputs": [],
   "source": [
    "import os\n",
    "import requests\n",
    "from urllib.parse import urlparse, urljoin\n",
    "from bs4 import BeautifulSoup\n",
    "from collections import deque\n",
    "import logging\n",
    "import time"
   ]
  },
  {
   "cell_type": "code",
   "execution_count": 18,
   "metadata": {
    "id": "LFAbleadMrSD",
    "scrolled": true
   },
   "outputs": [
    {
     "name": "stdout",
     "output_type": "stream",
     "text": [
      "Requirement already satisfied: requests in c:\\users\\swathi\\anaconda3\\lib\\site-packages (2.32.2)\n",
      "Requirement already satisfied: beautifulsoup4 in c:\\users\\swathi\\anaconda3\\lib\\site-packages (4.12.3)\n",
      "Requirement already satisfied: charset-normalizer<4,>=2 in c:\\users\\swathi\\anaconda3\\lib\\site-packages (from requests) (2.0.4)\n",
      "Requirement already satisfied: idna<4,>=2.5 in c:\\users\\swathi\\anaconda3\\lib\\site-packages (from requests) (3.7)\n",
      "Requirement already satisfied: urllib3<3,>=1.21.1 in c:\\users\\swathi\\anaconda3\\lib\\site-packages (from requests) (2.2.2)\n",
      "Requirement already satisfied: certifi>=2017.4.17 in c:\\users\\swathi\\anaconda3\\lib\\site-packages (from requests) (2024.6.2)\n",
      "Requirement already satisfied: soupsieve>1.2 in c:\\users\\swathi\\anaconda3\\lib\\site-packages (from beautifulsoup4) (2.5)\n"
     ]
    }
   ],
   "source": [
    "!pip install requests beautifulsoup4"
   ]
  },
  {
   "cell_type": "markdown",
   "metadata": {
    "id": "Fjn7Ydzoqyxu"
   },
   "source": [
    "Configure logging to display info messages"
   ]
  },
  {
   "cell_type": "code",
   "execution_count": 20,
   "metadata": {
    "id": "tnKV-3kxMvPU"
   },
   "outputs": [],
   "source": [
    "logging.basicConfig(level=logging.INFO)"
   ]
  },
  {
   "cell_type": "markdown",
   "metadata": {
    "id": "_wgIf9Hrq6WX"
   },
   "source": [
    "The WebCrawler class, which includes methods for creating project directories, validating URLs, fetching links from pages, saving output, and performing the crawl operation.\n"
   ]
  },
  {
   "cell_type": "code",
   "execution_count": 22,
   "metadata": {
    "id": "pNb_I_4qvqbC"
   },
   "outputs": [],
   "source": [
    "class WebCrawler:\n",
    "    def __init__(self, base_url, project_name, max_pages=100):\n",
    "        self.base_url = base_url\n",
    "        self.project_name = project_name\n",
    "        self.max_pages = max_pages\n",
    "        self.visited = set()\n",
    "        self.queue = deque([base_url])\n",
    "        self.create_project_dir()\n",
    "\n",
    "    def create_project_dir(self):\n",
    "        if not os.path.exists(self.project_name):\n",
    "            logging.info(f\"Creating directory: {self.project_name}\")\n",
    "            os.makedirs(self.project_name)\n",
    "\n",
    "    def is_valid_url(self, url):\n",
    "        parsed = urlparse(url)\n",
    "        return bool(parsed.netloc) and bool(parsed.scheme)\n",
    "\n",
    "    def get_all_links(self, url, retries=3):\n",
    "        headers = {\n",
    "            'User-Agent': 'Mozilla/5.0 (Windows NT 10.0; Win64; x64) AppleWebKit/537.36 (KHTML, like Gecko) Chrome/114.0.0.0 Safari/537.36'\n",
    "        }\n",
    "\n",
    "        session = requests.Session()\n",
    "        session.headers.update(headers)\n",
    "\n",
    "        for attempt in range(retries):\n",
    "            try:\n",
    "                response = session.get(url)\n",
    "                response.raise_for_status()\n",
    "\n",
    "                if 'text/html' not in response.headers.get('Content-Type', ''):\n",
    "                    logging.info(f\"Skipping non-HTML content at {url}\")\n",
    "                    return set()\n",
    "\n",
    "                soup = BeautifulSoup(response.text, \"html.parser\")\n",
    "                urls = set()\n",
    "                for a_tag in soup.findAll(\"a\"):\n",
    "                    href = a_tag.attrs.get(\"href\")\n",
    "                    if href == \"\" or href is None:\n",
    "                        continue\n",
    "                    href = urljoin(url, href)\n",
    "                    parsed_href = urlparse(href)\n",
    "                    href = parsed_href.scheme + \"://\" + parsed_href.netloc + parsed_href.path\n",
    "                    if self.is_valid_url(href):\n",
    "                        urls.add(href)\n",
    "                return urls\n",
    "\n",
    "            except requests.exceptions.HTTPError as http_err:\n",
    "                logging.error(f\"HTTP error occurred: {http_err}\")\n",
    "                if response.status_code == 403:\n",
    "                    logging.error(\"Access forbidden. The server might be blocking the request.\")\n",
    "                elif response.status_code == 500:\n",
    "                    logging.error(\"Server error. The server encountered an internal error.\")\n",
    "                break\n",
    "\n",
    "            except requests.exceptions.ConnectionError as conn_err:\n",
    "                logging.error(f\"Connection error occurred: {conn_err}\")\n",
    "                if attempt < retries - 1:\n",
    "                    logging.info(f\"Retrying... ({attempt + 1}/{retries})\")\n",
    "                    time.sleep(5)\n",
    "                else:\n",
    "                    logging.error(\"Max retries reached. Failed to retrieve the page.\")\n",
    "                    break\n",
    "\n",
    "            except Exception as err:\n",
    "                logging.error(f\"An error occurred: {err}\")\n",
    "                break\n",
    "\n",
    "        return set()\n",
    "\n",
    "    def save_output(self, url, links):\n",
    "        filename = os.path.join(self.project_name, f\"{urlparse(url).netloc.replace('.', '_')}.txt\")\n",
    "        with open(filename, \"w\") as f:\n",
    "            for link in links:\n",
    "                f.write(link + \"\\n\")\n",
    "        logging.info(f\"Saved links for {url} to {filename}\")\n",
    "\n",
    "    def crawl(self):\n",
    "        while self.queue and len(self.visited) < self.max_pages:\n",
    "            url = self.queue.popleft()\n",
    "            if url in self.visited:\n",
    "                continue\n",
    "            logging.info(f\"Crawling: {url}\")\n",
    "            self.visited.add(url)\n",
    "            links = self.get_all_links(url)\n",
    "            self.queue.extend(links - self.visited)\n",
    "            logging.info(f\"Queue: {self.queue}\")\n",
    "            logging.info(f\"Crawled: {self.visited}\")\n",
    "            self.save_output(url, links)\n",
    "            time.sleep(1) \n"
   ]
  },
  {
   "cell_type": "markdown",
   "metadata": {
    "id": "lwppvQW_rh3D"
   },
   "source": [
    "The main function that initializes the WebCrawler with the base URL and project name, and starts the crawling process. The base URL and project name are taken as input from the user.\n"
   ]
  },
  {
   "cell_type": "code",
   "execution_count": 24,
   "metadata": {
    "id": "NX5ULIUeqdVT"
   },
   "outputs": [
    {
     "name": "stdin",
     "output_type": "stream",
     "text": [
      "Enter the base URL to start crawling:  http://quotes.toscrape.com/\n",
      "Enter the project name for saving results:  quotes\n"
     ]
    },
    {
     "name": "stderr",
     "output_type": "stream",
     "text": [
      "INFO:root:Creating directory: quotes\n",
      "INFO:root:Crawling: http://quotes.toscrape.com/\n",
      "INFO:root:Queue: deque(['http://quotes.toscrape.com/author/Andre-Gide', 'http://quotes.toscrape.com/tag/love/', 'http://quotes.toscrape.com/tag/adulthood/page/1/', 'http://quotes.toscrape.com/author/J-K-Rowling', 'http://quotes.toscrape.com/tag/friendship/', 'http://quotes.toscrape.com/tag/aliteracy/page/1/', 'http://quotes.toscrape.com/author/Albert-Einstein', 'http://quotes.toscrape.com/tag/books/', 'http://quotes.toscrape.com/tag/be-yourself/page/1/', 'http://quotes.toscrape.com/author/Thomas-A-Edison', 'http://quotes.toscrape.com/tag/deep-thoughts/page/1/', 'http://quotes.toscrape.com/tag/simile/', 'http://quotes.toscrape.com/tag/truth/', 'http://quotes.toscrape.com/tag/change/page/1/', 'http://quotes.toscrape.com/author/Jane-Austen', 'http://quotes.toscrape.com/tag/obvious/page/1/', 'http://quotes.toscrape.com/tag/live/page/1/', 'http://quotes.toscrape.com/tag/miracle/page/1/', 'http://quotes.toscrape.com/tag/choices/page/1/', 'http://quotes.toscrape.com/tag/humor/page/1/', 'http://quotes.toscrape.com/tag/friends/', 'https://www.goodreads.com/quotes', 'https://www.zyte.com', 'http://quotes.toscrape.com/tag/life/', 'http://quotes.toscrape.com/tag/miracles/page/1/', 'http://quotes.toscrape.com/tag/value/page/1/', 'http://quotes.toscrape.com/tag/edison/page/1/', 'http://quotes.toscrape.com/tag/misattributed-eleanor-roosevelt/page/1/', 'http://quotes.toscrape.com/page/2/', 'http://quotes.toscrape.com/tag/inspirational/page/1/', 'http://quotes.toscrape.com/tag/world/page/1/', 'http://quotes.toscrape.com/tag/love/page/1/', 'http://quotes.toscrape.com/tag/classic/page/1/', 'http://quotes.toscrape.com/author/Marilyn-Monroe', 'http://quotes.toscrape.com/author/Steve-Martin', 'http://quotes.toscrape.com/tag/reading/', 'http://quotes.toscrape.com/tag/books/page/1/', 'http://quotes.toscrape.com/tag/paraphrased/page/1/', 'http://quotes.toscrape.com/tag/abilities/page/1/', 'http://quotes.toscrape.com/author/Eleanor-Roosevelt', 'http://quotes.toscrape.com/tag/simile/page/1/', 'http://quotes.toscrape.com/login', 'http://quotes.toscrape.com/tag/inspirational/', 'http://quotes.toscrape.com/tag/humor/', 'http://quotes.toscrape.com/tag/failure/page/1/', 'http://quotes.toscrape.com/tag/thinking/page/1/', 'http://quotes.toscrape.com/tag/success/page/1/', 'http://quotes.toscrape.com/tag/life/page/1/'])\n",
      "INFO:root:Crawled: {'http://quotes.toscrape.com/'}\n",
      "INFO:root:Saved links for http://quotes.toscrape.com/ to quotes\\quotes_toscrape_com.txt\n",
      "INFO:root:Crawling: http://quotes.toscrape.com/author/Andre-Gide\n",
      "INFO:root:Queue: deque(['http://quotes.toscrape.com/tag/love/', 'http://quotes.toscrape.com/tag/adulthood/page/1/', 'http://quotes.toscrape.com/author/J-K-Rowling', 'http://quotes.toscrape.com/tag/friendship/', 'http://quotes.toscrape.com/tag/aliteracy/page/1/', 'http://quotes.toscrape.com/author/Albert-Einstein', 'http://quotes.toscrape.com/tag/books/', 'http://quotes.toscrape.com/tag/be-yourself/page/1/', 'http://quotes.toscrape.com/author/Thomas-A-Edison', 'http://quotes.toscrape.com/tag/deep-thoughts/page/1/', 'http://quotes.toscrape.com/tag/simile/', 'http://quotes.toscrape.com/tag/truth/', 'http://quotes.toscrape.com/tag/change/page/1/', 'http://quotes.toscrape.com/author/Jane-Austen', 'http://quotes.toscrape.com/tag/obvious/page/1/', 'http://quotes.toscrape.com/tag/live/page/1/', 'http://quotes.toscrape.com/tag/miracle/page/1/', 'http://quotes.toscrape.com/tag/choices/page/1/', 'http://quotes.toscrape.com/tag/humor/page/1/', 'http://quotes.toscrape.com/tag/friends/', 'https://www.goodreads.com/quotes', 'https://www.zyte.com', 'http://quotes.toscrape.com/tag/life/', 'http://quotes.toscrape.com/tag/miracles/page/1/', 'http://quotes.toscrape.com/tag/value/page/1/', 'http://quotes.toscrape.com/tag/edison/page/1/', 'http://quotes.toscrape.com/tag/misattributed-eleanor-roosevelt/page/1/', 'http://quotes.toscrape.com/page/2/', 'http://quotes.toscrape.com/tag/inspirational/page/1/', 'http://quotes.toscrape.com/tag/world/page/1/', 'http://quotes.toscrape.com/tag/love/page/1/', 'http://quotes.toscrape.com/tag/classic/page/1/', 'http://quotes.toscrape.com/author/Marilyn-Monroe', 'http://quotes.toscrape.com/author/Steve-Martin', 'http://quotes.toscrape.com/tag/reading/', 'http://quotes.toscrape.com/tag/books/page/1/', 'http://quotes.toscrape.com/tag/paraphrased/page/1/', 'http://quotes.toscrape.com/tag/abilities/page/1/', 'http://quotes.toscrape.com/author/Eleanor-Roosevelt', 'http://quotes.toscrape.com/tag/simile/page/1/', 'http://quotes.toscrape.com/login', 'http://quotes.toscrape.com/tag/inspirational/', 'http://quotes.toscrape.com/tag/humor/', 'http://quotes.toscrape.com/tag/failure/page/1/', 'http://quotes.toscrape.com/tag/thinking/page/1/', 'http://quotes.toscrape.com/tag/success/page/1/', 'http://quotes.toscrape.com/tag/life/page/1/', 'https://www.goodreads.com/quotes', 'http://quotes.toscrape.com/login', 'https://www.zyte.com'])\n",
      "INFO:root:Crawled: {'http://quotes.toscrape.com/author/Andre-Gide', 'http://quotes.toscrape.com/'}\n",
      "INFO:root:Saved links for http://quotes.toscrape.com/author/Andre-Gide to quotes\\quotes_toscrape_com.txt\n",
      "INFO:root:Crawling: http://quotes.toscrape.com/tag/love/\n",
      "INFO:root:Queue: deque(['http://quotes.toscrape.com/tag/adulthood/page/1/', 'http://quotes.toscrape.com/author/J-K-Rowling', 'http://quotes.toscrape.com/tag/friendship/', 'http://quotes.toscrape.com/tag/aliteracy/page/1/', 'http://quotes.toscrape.com/author/Albert-Einstein', 'http://quotes.toscrape.com/tag/books/', 'http://quotes.toscrape.com/tag/be-yourself/page/1/', 'http://quotes.toscrape.com/author/Thomas-A-Edison', 'http://quotes.toscrape.com/tag/deep-thoughts/page/1/', 'http://quotes.toscrape.com/tag/simile/', 'http://quotes.toscrape.com/tag/truth/', 'http://quotes.toscrape.com/tag/change/page/1/', 'http://quotes.toscrape.com/author/Jane-Austen', 'http://quotes.toscrape.com/tag/obvious/page/1/', 'http://quotes.toscrape.com/tag/live/page/1/', 'http://quotes.toscrape.com/tag/miracle/page/1/', 'http://quotes.toscrape.com/tag/choices/page/1/', 'http://quotes.toscrape.com/tag/humor/page/1/', 'http://quotes.toscrape.com/tag/friends/', 'https://www.goodreads.com/quotes', 'https://www.zyte.com', 'http://quotes.toscrape.com/tag/life/', 'http://quotes.toscrape.com/tag/miracles/page/1/', 'http://quotes.toscrape.com/tag/value/page/1/', 'http://quotes.toscrape.com/tag/edison/page/1/', 'http://quotes.toscrape.com/tag/misattributed-eleanor-roosevelt/page/1/', 'http://quotes.toscrape.com/page/2/', 'http://quotes.toscrape.com/tag/inspirational/page/1/', 'http://quotes.toscrape.com/tag/world/page/1/', 'http://quotes.toscrape.com/tag/love/page/1/', 'http://quotes.toscrape.com/tag/classic/page/1/', 'http://quotes.toscrape.com/author/Marilyn-Monroe', 'http://quotes.toscrape.com/author/Steve-Martin', 'http://quotes.toscrape.com/tag/reading/', 'http://quotes.toscrape.com/tag/books/page/1/', 'http://quotes.toscrape.com/tag/paraphrased/page/1/', 'http://quotes.toscrape.com/tag/abilities/page/1/', 'http://quotes.toscrape.com/author/Eleanor-Roosevelt', 'http://quotes.toscrape.com/tag/simile/page/1/', 'http://quotes.toscrape.com/login', 'http://quotes.toscrape.com/tag/inspirational/', 'http://quotes.toscrape.com/tag/humor/', 'http://quotes.toscrape.com/tag/failure/page/1/', 'http://quotes.toscrape.com/tag/thinking/page/1/', 'http://quotes.toscrape.com/tag/success/page/1/', 'http://quotes.toscrape.com/tag/life/page/1/', 'https://www.goodreads.com/quotes', 'http://quotes.toscrape.com/login', 'https://www.zyte.com', 'http://quotes.toscrape.com/author/Elie-Wiesel', 'http://quotes.toscrape.com/tag/friendship/', 'http://quotes.toscrape.com/tag/philosophy/page/1/', 'http://quotes.toscrape.com/author/James-Baldwin', 'http://quotes.toscrape.com/tag/books/', 'http://quotes.toscrape.com/tag/girls/page/1/', 'http://quotes.toscrape.com/tag/indifference/page/1/', 'http://quotes.toscrape.com/tag/simile/', 'http://quotes.toscrape.com/tag/truth/', 'http://quotes.toscrape.com/tag/apathy/page/1/', 'http://quotes.toscrape.com/tag/hate/page/1/', 'http://quotes.toscrape.com/tag/friendship/page/1/', 'http://quotes.toscrape.com/tag/sisters/page/1/', 'http://quotes.toscrape.com/tag/marriage/page/1/', 'http://quotes.toscrape.com/author/Jane-Austen', 'http://quotes.toscrape.com/tag/friends/', 'https://www.goodreads.com/quotes', 'https://www.zyte.com', 'http://quotes.toscrape.com/tag/friends/page/1/', 'http://quotes.toscrape.com/tag/life/', 'http://quotes.toscrape.com/tag/unhappy-marriage/page/1/', 'http://quotes.toscrape.com/author/Friedrich-Nietzsche', 'http://quotes.toscrape.com/tag/lack-of-friendship/page/1/', 'http://quotes.toscrape.com/tag/inspirational/page/1/', 'http://quotes.toscrape.com/tag/love/page/1/', 'http://quotes.toscrape.com/tag/poetry/page/1/', 'http://quotes.toscrape.com/tag/love/page/2/', 'http://quotes.toscrape.com/author/Marilyn-Monroe', 'http://quotes.toscrape.com/tag/reading/', 'http://quotes.toscrape.com/author/Pablo-Neruda', 'http://quotes.toscrape.com/tag/heartbreak/page/1/', 'http://quotes.toscrape.com/tag/lack-of-love/page/1/', 'http://quotes.toscrape.com/login', 'http://quotes.toscrape.com/tag/activism/page/1/', 'http://quotes.toscrape.com/tag/inspirational/', 'http://quotes.toscrape.com/tag/humor/', 'http://quotes.toscrape.com/tag/opposite/page/1/', 'http://quotes.toscrape.com/author/Bob-Marley', 'http://quotes.toscrape.com/tag/life/page/1/'])\n",
      "INFO:root:Crawled: {'http://quotes.toscrape.com/author/Andre-Gide', 'http://quotes.toscrape.com/tag/love/', 'http://quotes.toscrape.com/'}\n",
      "INFO:root:Saved links for http://quotes.toscrape.com/tag/love/ to quotes\\quotes_toscrape_com.txt\n",
      "INFO:root:Crawling: http://quotes.toscrape.com/tag/adulthood/page/1/\n",
      "INFO:root:Queue: deque(['http://quotes.toscrape.com/author/J-K-Rowling', 'http://quotes.toscrape.com/tag/friendship/', 'http://quotes.toscrape.com/tag/aliteracy/page/1/', 'http://quotes.toscrape.com/author/Albert-Einstein', 'http://quotes.toscrape.com/tag/books/', 'http://quotes.toscrape.com/tag/be-yourself/page/1/', 'http://quotes.toscrape.com/author/Thomas-A-Edison', 'http://quotes.toscrape.com/tag/deep-thoughts/page/1/', 'http://quotes.toscrape.com/tag/simile/', 'http://quotes.toscrape.com/tag/truth/', 'http://quotes.toscrape.com/tag/change/page/1/', 'http://quotes.toscrape.com/author/Jane-Austen', 'http://quotes.toscrape.com/tag/obvious/page/1/', 'http://quotes.toscrape.com/tag/live/page/1/', 'http://quotes.toscrape.com/tag/miracle/page/1/', 'http://quotes.toscrape.com/tag/choices/page/1/', 'http://quotes.toscrape.com/tag/humor/page/1/', 'http://quotes.toscrape.com/tag/friends/', 'https://www.goodreads.com/quotes', 'https://www.zyte.com', 'http://quotes.toscrape.com/tag/life/', 'http://quotes.toscrape.com/tag/miracles/page/1/', 'http://quotes.toscrape.com/tag/value/page/1/', 'http://quotes.toscrape.com/tag/edison/page/1/', 'http://quotes.toscrape.com/tag/misattributed-eleanor-roosevelt/page/1/', 'http://quotes.toscrape.com/page/2/', 'http://quotes.toscrape.com/tag/inspirational/page/1/', 'http://quotes.toscrape.com/tag/world/page/1/', 'http://quotes.toscrape.com/tag/love/page/1/', 'http://quotes.toscrape.com/tag/classic/page/1/', 'http://quotes.toscrape.com/author/Marilyn-Monroe', 'http://quotes.toscrape.com/author/Steve-Martin', 'http://quotes.toscrape.com/tag/reading/', 'http://quotes.toscrape.com/tag/books/page/1/', 'http://quotes.toscrape.com/tag/paraphrased/page/1/', 'http://quotes.toscrape.com/tag/abilities/page/1/', 'http://quotes.toscrape.com/author/Eleanor-Roosevelt', 'http://quotes.toscrape.com/tag/simile/page/1/', 'http://quotes.toscrape.com/login', 'http://quotes.toscrape.com/tag/inspirational/', 'http://quotes.toscrape.com/tag/humor/', 'http://quotes.toscrape.com/tag/failure/page/1/', 'http://quotes.toscrape.com/tag/thinking/page/1/', 'http://quotes.toscrape.com/tag/success/page/1/', 'http://quotes.toscrape.com/tag/life/page/1/', 'https://www.goodreads.com/quotes', 'http://quotes.toscrape.com/login', 'https://www.zyte.com', 'http://quotes.toscrape.com/author/Elie-Wiesel', 'http://quotes.toscrape.com/tag/friendship/', 'http://quotes.toscrape.com/tag/philosophy/page/1/', 'http://quotes.toscrape.com/author/James-Baldwin', 'http://quotes.toscrape.com/tag/books/', 'http://quotes.toscrape.com/tag/girls/page/1/', 'http://quotes.toscrape.com/tag/indifference/page/1/', 'http://quotes.toscrape.com/tag/simile/', 'http://quotes.toscrape.com/tag/truth/', 'http://quotes.toscrape.com/tag/apathy/page/1/', 'http://quotes.toscrape.com/tag/hate/page/1/', 'http://quotes.toscrape.com/tag/friendship/page/1/', 'http://quotes.toscrape.com/tag/sisters/page/1/', 'http://quotes.toscrape.com/tag/marriage/page/1/', 'http://quotes.toscrape.com/author/Jane-Austen', 'http://quotes.toscrape.com/tag/friends/', 'https://www.goodreads.com/quotes', 'https://www.zyte.com', 'http://quotes.toscrape.com/tag/friends/page/1/', 'http://quotes.toscrape.com/tag/life/', 'http://quotes.toscrape.com/tag/unhappy-marriage/page/1/', 'http://quotes.toscrape.com/author/Friedrich-Nietzsche', 'http://quotes.toscrape.com/tag/lack-of-friendship/page/1/', 'http://quotes.toscrape.com/tag/inspirational/page/1/', 'http://quotes.toscrape.com/tag/love/page/1/', 'http://quotes.toscrape.com/tag/poetry/page/1/', 'http://quotes.toscrape.com/tag/love/page/2/', 'http://quotes.toscrape.com/author/Marilyn-Monroe', 'http://quotes.toscrape.com/tag/reading/', 'http://quotes.toscrape.com/author/Pablo-Neruda', 'http://quotes.toscrape.com/tag/heartbreak/page/1/', 'http://quotes.toscrape.com/tag/lack-of-love/page/1/', 'http://quotes.toscrape.com/login', 'http://quotes.toscrape.com/tag/activism/page/1/', 'http://quotes.toscrape.com/tag/inspirational/', 'http://quotes.toscrape.com/tag/humor/', 'http://quotes.toscrape.com/tag/opposite/page/1/', 'http://quotes.toscrape.com/author/Bob-Marley', 'http://quotes.toscrape.com/tag/life/page/1/', 'http://quotes.toscrape.com/tag/value/page/1/', 'http://quotes.toscrape.com/tag/simile/', 'http://quotes.toscrape.com/tag/truth/', 'http://quotes.toscrape.com/tag/friendship/', 'http://quotes.toscrape.com/login', 'http://quotes.toscrape.com/author/Albert-Einstein', 'http://quotes.toscrape.com/tag/inspirational/', 'http://quotes.toscrape.com/tag/humor/', 'http://quotes.toscrape.com/tag/friends/', 'http://quotes.toscrape.com/tag/books/', 'https://www.goodreads.com/quotes', 'https://www.zyte.com', 'http://quotes.toscrape.com/tag/life/', 'http://quotes.toscrape.com/tag/reading/', 'http://quotes.toscrape.com/tag/success/page/1/'])\n",
      "INFO:root:Crawled: {'http://quotes.toscrape.com/author/Andre-Gide', 'http://quotes.toscrape.com/tag/love/', 'http://quotes.toscrape.com/tag/adulthood/page/1/', 'http://quotes.toscrape.com/'}\n",
      "INFO:root:Saved links for http://quotes.toscrape.com/tag/adulthood/page/1/ to quotes\\quotes_toscrape_com.txt\n",
      "INFO:root:Crawling: http://quotes.toscrape.com/author/J-K-Rowling\n",
      "INFO:root:Queue: deque(['http://quotes.toscrape.com/tag/friendship/', 'http://quotes.toscrape.com/tag/aliteracy/page/1/', 'http://quotes.toscrape.com/author/Albert-Einstein', 'http://quotes.toscrape.com/tag/books/', 'http://quotes.toscrape.com/tag/be-yourself/page/1/', 'http://quotes.toscrape.com/author/Thomas-A-Edison', 'http://quotes.toscrape.com/tag/deep-thoughts/page/1/', 'http://quotes.toscrape.com/tag/simile/', 'http://quotes.toscrape.com/tag/truth/', 'http://quotes.toscrape.com/tag/change/page/1/', 'http://quotes.toscrape.com/author/Jane-Austen', 'http://quotes.toscrape.com/tag/obvious/page/1/', 'http://quotes.toscrape.com/tag/live/page/1/', 'http://quotes.toscrape.com/tag/miracle/page/1/', 'http://quotes.toscrape.com/tag/choices/page/1/', 'http://quotes.toscrape.com/tag/humor/page/1/', 'http://quotes.toscrape.com/tag/friends/', 'https://www.goodreads.com/quotes', 'https://www.zyte.com', 'http://quotes.toscrape.com/tag/life/', 'http://quotes.toscrape.com/tag/miracles/page/1/', 'http://quotes.toscrape.com/tag/value/page/1/', 'http://quotes.toscrape.com/tag/edison/page/1/', 'http://quotes.toscrape.com/tag/misattributed-eleanor-roosevelt/page/1/', 'http://quotes.toscrape.com/page/2/', 'http://quotes.toscrape.com/tag/inspirational/page/1/', 'http://quotes.toscrape.com/tag/world/page/1/', 'http://quotes.toscrape.com/tag/love/page/1/', 'http://quotes.toscrape.com/tag/classic/page/1/', 'http://quotes.toscrape.com/author/Marilyn-Monroe', 'http://quotes.toscrape.com/author/Steve-Martin', 'http://quotes.toscrape.com/tag/reading/', 'http://quotes.toscrape.com/tag/books/page/1/', 'http://quotes.toscrape.com/tag/paraphrased/page/1/', 'http://quotes.toscrape.com/tag/abilities/page/1/', 'http://quotes.toscrape.com/author/Eleanor-Roosevelt', 'http://quotes.toscrape.com/tag/simile/page/1/', 'http://quotes.toscrape.com/login', 'http://quotes.toscrape.com/tag/inspirational/', 'http://quotes.toscrape.com/tag/humor/', 'http://quotes.toscrape.com/tag/failure/page/1/', 'http://quotes.toscrape.com/tag/thinking/page/1/', 'http://quotes.toscrape.com/tag/success/page/1/', 'http://quotes.toscrape.com/tag/life/page/1/', 'https://www.goodreads.com/quotes', 'http://quotes.toscrape.com/login', 'https://www.zyte.com', 'http://quotes.toscrape.com/author/Elie-Wiesel', 'http://quotes.toscrape.com/tag/friendship/', 'http://quotes.toscrape.com/tag/philosophy/page/1/', 'http://quotes.toscrape.com/author/James-Baldwin', 'http://quotes.toscrape.com/tag/books/', 'http://quotes.toscrape.com/tag/girls/page/1/', 'http://quotes.toscrape.com/tag/indifference/page/1/', 'http://quotes.toscrape.com/tag/simile/', 'http://quotes.toscrape.com/tag/truth/', 'http://quotes.toscrape.com/tag/apathy/page/1/', 'http://quotes.toscrape.com/tag/hate/page/1/', 'http://quotes.toscrape.com/tag/friendship/page/1/', 'http://quotes.toscrape.com/tag/sisters/page/1/', 'http://quotes.toscrape.com/tag/marriage/page/1/', 'http://quotes.toscrape.com/author/Jane-Austen', 'http://quotes.toscrape.com/tag/friends/', 'https://www.goodreads.com/quotes', 'https://www.zyte.com', 'http://quotes.toscrape.com/tag/friends/page/1/', 'http://quotes.toscrape.com/tag/life/', 'http://quotes.toscrape.com/tag/unhappy-marriage/page/1/', 'http://quotes.toscrape.com/author/Friedrich-Nietzsche', 'http://quotes.toscrape.com/tag/lack-of-friendship/page/1/', 'http://quotes.toscrape.com/tag/inspirational/page/1/', 'http://quotes.toscrape.com/tag/love/page/1/', 'http://quotes.toscrape.com/tag/poetry/page/1/', 'http://quotes.toscrape.com/tag/love/page/2/', 'http://quotes.toscrape.com/author/Marilyn-Monroe', 'http://quotes.toscrape.com/tag/reading/', 'http://quotes.toscrape.com/author/Pablo-Neruda', 'http://quotes.toscrape.com/tag/heartbreak/page/1/', 'http://quotes.toscrape.com/tag/lack-of-love/page/1/', 'http://quotes.toscrape.com/login', 'http://quotes.toscrape.com/tag/activism/page/1/', 'http://quotes.toscrape.com/tag/inspirational/', 'http://quotes.toscrape.com/tag/humor/', 'http://quotes.toscrape.com/tag/opposite/page/1/', 'http://quotes.toscrape.com/author/Bob-Marley', 'http://quotes.toscrape.com/tag/life/page/1/', 'http://quotes.toscrape.com/tag/value/page/1/', 'http://quotes.toscrape.com/tag/simile/', 'http://quotes.toscrape.com/tag/truth/', 'http://quotes.toscrape.com/tag/friendship/', 'http://quotes.toscrape.com/login', 'http://quotes.toscrape.com/author/Albert-Einstein', 'http://quotes.toscrape.com/tag/inspirational/', 'http://quotes.toscrape.com/tag/humor/', 'http://quotes.toscrape.com/tag/friends/', 'http://quotes.toscrape.com/tag/books/', 'https://www.goodreads.com/quotes', 'https://www.zyte.com', 'http://quotes.toscrape.com/tag/life/', 'http://quotes.toscrape.com/tag/reading/', 'http://quotes.toscrape.com/tag/success/page/1/', 'https://www.goodreads.com/quotes', 'http://quotes.toscrape.com/login', 'https://www.zyte.com'])\n",
      "INFO:root:Crawled: {'http://quotes.toscrape.com/author/Andre-Gide', 'http://quotes.toscrape.com/tag/love/', 'http://quotes.toscrape.com/tag/adulthood/page/1/', 'http://quotes.toscrape.com/author/J-K-Rowling', 'http://quotes.toscrape.com/'}\n",
      "INFO:root:Saved links for http://quotes.toscrape.com/author/J-K-Rowling to quotes\\quotes_toscrape_com.txt\n"
     ]
    }
   ],
   "source": [
    "def main():\n",
    "    base_url = input(\"Enter the base URL to start crawling: \")\n",
    "    project_name = input(\"Enter the project name for saving results: \")\n",
    "    crawler = WebCrawler(base_url, project_name, max_pages=5)\n",
    "    crawler.crawl()\n",
    "if __name__ == '__main__':\n",
    "    main()"
   ]
  },
  {
   "cell_type": "code",
   "execution_count": null,
   "metadata": {},
   "outputs": [],
   "source": []
  }
 ],
 "metadata": {
  "colab": {
   "provenance": []
  },
  "kernelspec": {
   "display_name": "Python 3 (ipykernel)",
   "language": "python",
   "name": "python3"
  },
  "language_info": {
   "codemirror_mode": {
    "name": "ipython",
    "version": 3
   },
   "file_extension": ".py",
   "mimetype": "text/x-python",
   "name": "python",
   "nbconvert_exporter": "python",
   "pygments_lexer": "ipython3",
   "version": "3.12.4"
  }
 },
 "nbformat": 4,
 "nbformat_minor": 4
}
